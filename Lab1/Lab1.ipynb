{
 "cells": [
  {
   "cell_type": "markdown",
   "metadata": {},
   "source": [
    "# Exercise 1"
   ]
  },
  {
   "cell_type": "code",
   "execution_count": 28,
   "metadata": {},
   "outputs": [
    {
     "name": "stdout",
     "output_type": "stream",
     "text": [
      "CUDA is available: True\n",
      "Cuda device name: NVIDIA GeForce RTX 4090\n"
     ]
    }
   ],
   "source": [
    "import torch\n",
    "print(\"CUDA is available:\",torch.cuda.is_available())\n",
    "print(\"Cuda device name:\",torch.cuda.get_device_name(0))"
   ]
  },
  {
   "cell_type": "markdown",
   "metadata": {},
   "source": [
    "# Exercise 2"
   ]
  },
  {
   "cell_type": "code",
   "execution_count": 29,
   "metadata": {},
   "outputs": [
    {
     "name": "stdout",
     "output_type": "stream",
     "text": [
      "x + y = tensor([[4.7554e+29, 8.2310e-01, 4.8657e-01],\n",
      "        [1.5783e+00, 8.3089e-01, 9.7212e-01]])\n",
      "x + z = tensor([[4.7554e+29, 2.2430e+00, 3.3172e+00],\n",
      "        [6.9598e+00, 1.0230e+01, 5.3235e+00]])\n"
     ]
    }
   ],
   "source": [
    "x = torch.Tensor(2,3)\n",
    "\n",
    "y= torch.rand(2,3)\n",
    "\n",
    "z= torch.Tensor([[1,2,3],[6,10,5]])\n",
    "\n",
    "z1= x+y\n",
    "z2= torch.add(x,z)\n",
    "\n",
    "print(\"x + y =\",z1)\n",
    "print(\"x + z =\",z2)"
   ]
  },
  {
   "cell_type": "markdown",
   "metadata": {},
   "source": [
    "# Task 1"
   ]
  },
  {
   "cell_type": "code",
   "execution_count": 30,
   "metadata": {},
   "outputs": [
    {
     "name": "stdout",
     "output_type": "stream",
     "text": [
      "Before Addition: x =  tensor([[0.5683, 0.1433, 0.0866],\n",
      "        [0.8663, 0.6562, 0.0182]])\n",
      "After Addition: x =  tensor([[1.5329, 0.5755, 0.8200],\n",
      "        [0.9018, 0.7501, 0.7119]])\n"
     ]
    }
   ],
   "source": [
    "x = torch.Tensor(2,3)\n",
    "y= torch.rand(2,3)\n",
    "print(\"Before Addition: x = \",x)\n",
    "x.add_(y)\n",
    "print(\"After Addition: x = \",x)"
   ]
  },
  {
   "cell_type": "markdown",
   "metadata": {},
   "source": [
    "# Task 2"
   ]
  },
  {
   "cell_type": "code",
   "execution_count": 31,
   "metadata": {},
   "outputs": [
    {
     "name": "stdout",
     "output_type": "stream",
     "text": [
      "k + g =  tensor([[[[[0.6616, 1.3269],\n",
      "           [0.2576, 0.7403]],\n",
      "\n",
      "          [[0.6230, 1.7803],\n",
      "           [0.7823, 0.7780]]],\n",
      "\n",
      "\n",
      "         [[[0.1943, 0.4192],\n",
      "           [1.3769, 0.8154]],\n",
      "\n",
      "          [[0.4104, 1.0006],\n",
      "           [0.7677, 1.8442]]]]])\n"
     ]
    }
   ],
   "source": [
    "k = torch.rand(1,2,2,2,2)\n",
    "g = torch.rand(1,2,2,2,2)\n",
    "\n",
    "print(\"k + g = \",torch.add(k,g))"
   ]
  },
  {
   "cell_type": "code",
   "execution_count": 32,
   "metadata": {},
   "outputs": [
    {
     "name": "stdout",
     "output_type": "stream",
     "text": [
      "k * g =  tensor([[[[[0.0843, 0.3276],\n",
      "           [0.0165, 0.0857]],\n",
      "\n",
      "          [[0.0558, 0.7916],\n",
      "           [0.1527, 0.1306]]],\n",
      "\n",
      "\n",
      "         [[[0.0090, 0.0427],\n",
      "           [0.4058, 0.1325]],\n",
      "\n",
      "          [[0.0418, 0.1222],\n",
      "           [0.0534, 0.8459]]]]])\n"
     ]
    }
   ],
   "source": [
    "print(\"k * g = \",torch.mul(k,g))"
   ]
  },
  {
   "cell_type": "markdown",
   "metadata": {},
   "source": [
    "# Task 3"
   ]
  },
  {
   "cell_type": "code",
   "execution_count": 33,
   "metadata": {},
   "outputs": [
    {
     "name": "stdout",
     "output_type": "stream",
     "text": [
      "Shape of k =  torch.Size([16])\n",
      "Flattend k =  tensor([0.4893, 0.9990, 0.1195, 0.5967, 0.5145, 0.8628, 0.3736, 0.2449, 0.1179,\n",
      "        0.2443, 0.4274, 0.2241, 0.2238, 0.8582, 0.0774, 0.9883])\n"
     ]
    }
   ],
   "source": [
    "flat = torch.flatten(k)\n",
    "print(\"Shape of k = \",flat.shape)\n",
    "print(\"Flattend k = \",flat)"
   ]
  }
 ],
 "metadata": {
  "kernelspec": {
   "display_name": "base",
   "language": "python",
   "name": "python3"
  },
  "language_info": {
   "codemirror_mode": {
    "name": "ipython",
    "version": 3
   },
   "file_extension": ".py",
   "mimetype": "text/x-python",
   "name": "python",
   "nbconvert_exporter": "python",
   "pygments_lexer": "ipython3",
   "version": "3.12.4"
  }
 },
 "nbformat": 4,
 "nbformat_minor": 2
}
