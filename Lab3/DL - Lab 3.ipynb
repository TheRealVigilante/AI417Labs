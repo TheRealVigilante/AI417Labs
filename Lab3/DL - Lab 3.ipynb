{
 "cells": [
  {
   "cell_type": "code",
   "execution_count": 27,
   "id": "a5dac8f9",
   "metadata": {},
   "outputs": [],
   "source": [
    "import torch"
   ]
  },
  {
   "cell_type": "code",
   "execution_count": 28,
   "id": "2e383e63",
   "metadata": {},
   "outputs": [
    {
     "name": "stdout",
     "output_type": "stream",
     "text": [
      "x: tensor(2)\n",
      "y: tensor(10)\n",
      "w: tensor(3., requires_grad=True)\n"
     ]
    }
   ],
   "source": [
    "# Create tensor without requires_grad = True\n",
    "x = torch.tensor(2) # Input tensor\n",
    "y = torch.tensor(10) # Ground-Truth / Target\n",
    "\n",
    "# Create tensors with requires_grad = True\n",
    "w = torch.tensor(3.0, requires_grad=True) # Weights\n",
    "\n",
    "# Print the tensors\n",
    "print(\"x:\", x)\n",
    "print(\"y:\", y)\n",
    "print(\"w:\", w)"
   ]
  },
  {
   "cell_type": "code",
   "execution_count": 29,
   "id": "8e756b1c",
   "metadata": {},
   "outputs": [
    {
     "name": "stdout",
     "output_type": "stream",
     "text": [
      "y_hat: tensor(6., grad_fn=<MulBackward0>)\n"
     ]
    }
   ],
   "source": [
    "# Define a function y_hat for the tensors\n",
    "y_hat = w * x # Output / Predictions\n",
    "\n",
    "print(\"y_hat:\", y_hat)"
   ]
  },
  {
   "cell_type": "code",
   "execution_count": 30,
   "id": "5e4c177d",
   "metadata": {},
   "outputs": [
    {
     "name": "stdout",
     "output_type": "stream",
     "text": [
      "Loss: tensor(16., grad_fn=<PowBackward0>)\n"
     ]
    }
   ],
   "source": [
    "# Compute loss\n",
    "s = y_hat - y\n",
    "loss = (s)**2\n",
    "\n",
    "print(\"Loss:\", loss)"
   ]
  },
  {
   "cell_type": "code",
   "execution_count": 31,
   "id": "2dc35532",
   "metadata": {},
   "outputs": [],
   "source": [
    "# computes the gradients for all tensors that have requires_grad=True, by calling the backward function for loss\n",
    "loss.backward()"
   ]
  },
  {
   "cell_type": "code",
   "execution_count": 32,
   "id": "bbb3bc32",
   "metadata": {},
   "outputs": [
    {
     "name": "stdout",
     "output_type": "stream",
     "text": [
      "x.grad : None\n",
      "w.grad : tensor(-16.)\n"
     ]
    }
   ],
   "source": [
    "# Access and print the gradients with respect to x and w\n",
    "dx = x.grad  # x does not have requires_grad=True, so dx will be None\n",
    "dw = w.grad  # w has requires_grad=True, so dw will contain the gradient\n",
    "\n",
    "print(\"x.grad :\", dx)\n",
    "print(\"w.grad :\", dw)"
   ]
  },
  {
   "cell_type": "markdown",
   "id": "88de1d46",
   "metadata": {},
   "source": [
    "# Exercise 1"
   ]
  },
  {
   "cell_type": "markdown",
   "id": "090e3cd7",
   "metadata": {},
   "source": [
    "## Part 1"
   ]
  },
  {
   "cell_type": "code",
   "execution_count": 33,
   "id": "ad3c1954",
   "metadata": {},
   "outputs": [
    {
     "name": "stdout",
     "output_type": "stream",
     "text": [
      "w.grad : tensor(0.)\n"
     ]
    }
   ],
   "source": [
    "w.grad.zero_()\n",
    "print(\"w.grad :\", w.grad)"
   ]
  },
  {
   "cell_type": "code",
   "execution_count": 34,
   "id": "f22a0048",
   "metadata": {},
   "outputs": [
    {
     "name": "stdout",
     "output_type": "stream",
     "text": [
      "b: tensor(5., requires_grad=True)\n"
     ]
    }
   ],
   "source": [
    "b = torch.tensor(5.0, requires_grad=True) # Biases\n",
    "\n",
    "# Print the tensor\n",
    "print(\"b:\", b)"
   ]
  },
  {
   "cell_type": "code",
   "execution_count": 35,
   "id": "ba79fe64",
   "metadata": {},
   "outputs": [
    {
     "name": "stdout",
     "output_type": "stream",
     "text": [
      "y_hat: tensor(11., grad_fn=<AddBackward0>)\n"
     ]
    }
   ],
   "source": [
    "y_hat = w * x + b \n",
    "\n",
    "print(\"y_hat:\", y_hat)"
   ]
  },
  {
   "cell_type": "code",
   "execution_count": 36,
   "id": "cab53ab1",
   "metadata": {},
   "outputs": [
    {
     "name": "stdout",
     "output_type": "stream",
     "text": [
      "Loss: tensor(1., grad_fn=<PowBackward0>)\n"
     ]
    }
   ],
   "source": [
    "s = y_hat - y\n",
    "loss = (s)**2\n",
    "\n",
    "print(\"Loss:\", loss)"
   ]
  },
  {
   "cell_type": "code",
   "execution_count": null,
   "id": "30c776de",
   "metadata": {},
   "outputs": [],
   "source": [
    "loss.backward()"
   ]
  },
  {
   "cell_type": "code",
   "execution_count": 38,
   "id": "40f183d7",
   "metadata": {},
   "outputs": [
    {
     "name": "stdout",
     "output_type": "stream",
     "text": [
      "w.grad : tensor(4.)\n",
      "b.grad : tensor(2.)\n"
     ]
    }
   ],
   "source": [
    "dw = w.grad\n",
    "db = b.grad\n",
    "\n",
    "print(\"w.grad :\", dw)\n",
    "print(\"b.grad :\", db)"
   ]
  },
  {
   "cell_type": "markdown",
   "id": "da71ac8d",
   "metadata": {},
   "source": [
    "## Part 2"
   ]
  },
  {
   "cell_type": "code",
   "execution_count": 40,
   "id": "99a9341b",
   "metadata": {},
   "outputs": [
    {
     "name": "stdout",
     "output_type": "stream",
     "text": [
      "w.grad : tensor(0.)\n",
      "b.grad : tensor(0.)\n"
     ]
    }
   ],
   "source": [
    "w.grad.zero_()\n",
    "b.grad.zero_()\n",
    "print(\"w.grad :\", w.grad)\n",
    "print(\"b.grad :\", b.grad)"
   ]
  },
  {
   "cell_type": "code",
   "execution_count": 41,
   "id": "3ba94cec",
   "metadata": {},
   "outputs": [
    {
     "name": "stdout",
     "output_type": "stream",
     "text": [
      "y_hat: tensor(12.5000, grad_fn=<AddBackward0>)\n"
     ]
    }
   ],
   "source": [
    "y_hat = w * (x)**2 + 0.5\n",
    "\n",
    "print(\"y_hat:\", y_hat)"
   ]
  },
  {
   "cell_type": "code",
   "execution_count": 42,
   "id": "09baffc7",
   "metadata": {},
   "outputs": [
    {
     "name": "stdout",
     "output_type": "stream",
     "text": [
      "Loss: tensor(6.2500, grad_fn=<PowBackward0>)\n"
     ]
    }
   ],
   "source": [
    "s = y_hat - y\n",
    "loss = (s)**2\n",
    "\n",
    "print(\"Loss:\", loss)"
   ]
  },
  {
   "cell_type": "code",
   "execution_count": 43,
   "id": "9d1db486",
   "metadata": {},
   "outputs": [],
   "source": [
    "loss.backward()"
   ]
  },
  {
   "cell_type": "code",
   "execution_count": 44,
   "id": "cff1da6f",
   "metadata": {},
   "outputs": [
    {
     "name": "stdout",
     "output_type": "stream",
     "text": [
      "w.grad : tensor(20.)\n"
     ]
    }
   ],
   "source": [
    "dw = w.grad\n",
    "print(\"w.grad :\", dw)\n"
   ]
  },
  {
   "cell_type": "markdown",
   "id": "82450520",
   "metadata": {},
   "source": [
    "## Part 3"
   ]
  },
  {
   "cell_type": "code",
   "execution_count": 45,
   "id": "70c4384c",
   "metadata": {},
   "outputs": [
    {
     "name": "stdout",
     "output_type": "stream",
     "text": [
      "w.grad : tensor(0.)\n"
     ]
    }
   ],
   "source": [
    "w.grad.zero_()\n",
    "print(\"w.grad :\", w.grad)"
   ]
  },
  {
   "cell_type": "code",
   "execution_count": 46,
   "id": "4a99a936",
   "metadata": {},
   "outputs": [
    {
     "name": "stdout",
     "output_type": "stream",
     "text": [
      "y_hat: tensor(24., grad_fn=<AddBackward0>)\n"
     ]
    }
   ],
   "source": [
    "y_hat = (x)**3 + w * (x)**2 + 2 * x \n",
    "\n",
    "print(\"y_hat:\", y_hat)"
   ]
  },
  {
   "cell_type": "code",
   "execution_count": 47,
   "id": "3da7c978",
   "metadata": {},
   "outputs": [
    {
     "name": "stdout",
     "output_type": "stream",
     "text": [
      "Loss: tensor(196., grad_fn=<PowBackward0>)\n"
     ]
    }
   ],
   "source": [
    "s = y_hat - y\n",
    "loss = (s)**2\n",
    "\n",
    "print(\"Loss:\", loss)"
   ]
  },
  {
   "cell_type": "code",
   "execution_count": 48,
   "id": "ac6511f8",
   "metadata": {},
   "outputs": [],
   "source": [
    "loss.backward()"
   ]
  },
  {
   "cell_type": "code",
   "execution_count": 49,
   "id": "9a2bffc0",
   "metadata": {},
   "outputs": [
    {
     "name": "stdout",
     "output_type": "stream",
     "text": [
      "w.grad : tensor(112.)\n"
     ]
    }
   ],
   "source": [
    "dw = w.grad\n",
    "print(\"w.grad :\", dw)"
   ]
  },
  {
   "cell_type": "code",
   "execution_count": 50,
   "id": "185e3a78",
   "metadata": {},
   "outputs": [
    {
     "name": "stdout",
     "output_type": "stream",
     "text": [
      "w.grad : tensor(0.)\n"
     ]
    }
   ],
   "source": [
    "w.grad.zero_()\n",
    "print(\"w.grad :\", w.grad)"
   ]
  },
  {
   "cell_type": "code",
   "execution_count": null,
   "id": "e26bed7c",
   "metadata": {},
   "outputs": [],
   "source": []
  }
 ],
 "metadata": {
  "kernelspec": {
   "display_name": "base",
   "language": "python",
   "name": "python3"
  },
  "language_info": {
   "codemirror_mode": {
    "name": "ipython",
    "version": 3
   },
   "file_extension": ".py",
   "mimetype": "text/x-python",
   "name": "python",
   "nbconvert_exporter": "python",
   "pygments_lexer": "ipython3",
   "version": "3.12.4"
  }
 },
 "nbformat": 4,
 "nbformat_minor": 5
}
